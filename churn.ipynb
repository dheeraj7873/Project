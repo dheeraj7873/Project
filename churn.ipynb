{
 "cells": [
  {
   "cell_type": "code",
   "execution_count": 1,
   "id": "197b1644-9077-4ce3-9d3f-4a3db1aae878",
   "metadata": {},
   "outputs": [
    {
     "name": "stdout",
     "output_type": "stream",
     "text": [
      "<class 'pandas.core.frame.DataFrame'>\n",
      "RangeIndex: 1000 entries, 0 to 999\n",
      "Data columns (total 7 columns):\n",
      " #   Column           Non-Null Count  Dtype  \n",
      "---  ------           --------------  -----  \n",
      " 0   Tenure           1000 non-null   int64  \n",
      " 1   MonthlyCharges   1000 non-null   float64\n",
      " 2   TotalCharges     1000 non-null   float64\n",
      " 3   Contract         1000 non-null   object \n",
      " 4   PaymentMethod    1000 non-null   object \n",
      " 5   InternetService  1000 non-null   object \n",
      " 6   Churn            1000 non-null   int64  \n",
      "dtypes: float64(2), int64(2), object(3)\n",
      "memory usage: 54.8+ KB\n",
      "None\n",
      "   Tenure  MonthlyCharges  TotalCharges        Contract     PaymentMethod  \\\n",
      "0      52          105.57       5489.64        One year      Mailed Check   \n",
      "1      15          103.02       1545.30        One year      Mailed Check   \n",
      "2      61           59.72       3642.92        Two year  Electronic Check   \n",
      "3      21           86.81       1823.01  Month-to-month      Mailed Check   \n",
      "4      24           40.50        972.00        One year      Mailed Check   \n",
      "\n",
      "  InternetService  Churn  \n",
      "0     Fiber Optic      1  \n",
      "1              No      0  \n",
      "2     Fiber Optic      1  \n",
      "3     Fiber Optic      0  \n",
      "4     Fiber Optic      0  \n",
      "Accuracy: 0.82\n",
      "Classification Report:\n",
      "               precision    recall  f1-score   support\n",
      "\n",
      "           0       0.85      0.95      0.90       165\n",
      "           1       0.47      0.20      0.28        35\n",
      "\n",
      "    accuracy                           0.82       200\n",
      "   macro avg       0.66      0.58      0.59       200\n",
      "weighted avg       0.78      0.82      0.79       200\n",
      "\n",
      "Confusion Matrix:\n",
      " [[157   8]\n",
      " [ 28   7]]\n"
     ]
    },
    {
     "data": {
      "image/png": "[encoded data removed]",
      "text/plain": [
       "<Figure size 640x480 with 1 Axes>"
      ]
     },
     "metadata": {},
     "output_type": "display_data"
    }
   ],
   "source": [
    "import pandas as pd\n",
    "import numpy as np\n",
    "import matplotlib.pyplot as plt\n",
    "import seaborn as sns\n",
    "from sklearn.model_selection import train_test_split\n",
    "from sklearn.preprocessing import StandardScaler, LabelEncoder\n",
    "from sklearn.ensemble import RandomForestClassifier\n",
    "from sklearn.metrics import accuracy_score, classification_report, confusion_matrix\n",
    "\n",
    "# Load dataset\n",
    "df = pd.read_csv('customer_churn.csv')\n",
    "\n",
    "# Display basic dataset information\n",
    "print(df.info())\n",
    "print(df.head())\n",
    "\n",
    "# Handle missing values\n",
    "df.dropna(inplace=True)\n",
    "\n",
    "# Convert categorical variables to numerical\n",
    "label_encoders = {}\n",
    "for column in df.select_dtypes(include=['object']).columns:\n",
    "    le = LabelEncoder()\n",
    "    df[column] = le.fit_transform(df[column])\n",
    "    label_encoders[column] = le\n",
    "\n",
    "# Split data into features and target\n",
    "X = df.drop(columns=['Churn'])\n",
    "y = df['Churn']\n",
    "\n",
    "# Train-test split\n",
    "X_train, X_test, y_train, y_test = train_test_split(X, y, test_size=0.2, random_state=42)\n",
    "\n",
    "# Feature scaling\n",
    "scaler = StandardScaler()\n",
    "X_train = scaler.fit_transform(X_train)\n",
    "X_test = scaler.transform(X_test)\n",
    "\n",
    "# Train model\n",
    "model = RandomForestClassifier(n_estimators=100, random_state=42)\n",
    "model.fit(X_train, y_train)\n",
    "\n",
    "# Predictions\n",
    "y_pred = model.predict(X_test)\n",
    "\n",
    "# Evaluate model\n",
    "accuracy = accuracy_score(y_test, y_pred)\n",
    "print(\"Accuracy:\", accuracy)\n",
    "print(\"Classification Report:\\n\", classification_report(y_test, y_pred))\n",
    "print(\"Confusion Matrix:\\n\", confusion_matrix(y_test, y_pred))\n",
    "\n",
    "# Feature importance\n",
    "feature_importances = pd.Series(model.feature_importances_, index=X.columns)\n",
    "feature_importances.nlargest(10).plot(kind='barh')\n",
    "plt.title('Top 10 Feature Importances')\n",
    "plt.show()\n"
   ]
  },
  {
   "cell_type": "code",
   "execution_count": null,
   "id": "de4cf91e-b96a-49f3-b2fb-9a1b35df86cc",
   "metadata": {},
   "outputs": [],
   "source": []
  }
 ],
 "metadata": {
  "kernelspec": {
   "display_name": "Python 3 (ipykernel)",
   "language": "python",
   "name": "python3"
  },
  "language_info": {
   "codemirror_mode": {
    "name": "ipython",
    "version": 3
   },
   "file_extension": ".py",
   "mimetype": "text/x-python",
   "name": "python",
   "nbconvert_exporter": "python",
   "pygments_lexer": "ipython3",
   "version": "3.12.4"
  }
 },
 "nbformat": 4,
 "nbformat_minor": 5
}
